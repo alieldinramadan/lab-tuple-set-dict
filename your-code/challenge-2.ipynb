{
 "cells": [
  {
   "cell_type": "markdown",
   "metadata": {},
   "source": [
    "## Challenge 2: Sets\n",
    "\n",
    "There are a lot to learn about Python Sets and the information presented in the lesson is limited due to its length. To learn Python Sets in depth you are strongly encouraged to review the W3Schools tutorial on [Python Sets Examples and Methods](https://www.w3schools.com/python/python_sets.asp) before you work on this lab. Some difficult questions in this lab have their solutions in the W3Schools tutorial.\n",
    "\n",
    "#### First, import the Python `random` library."
   ]
  },
  {
   "cell_type": "code",
   "execution_count": 1,
   "metadata": {},
   "outputs": [],
   "source": [
    "import random"
   ]
  },
  {
   "cell_type": "markdown",
   "metadata": {},
   "source": [
    "#### In the cell below, create a list named `sample_list_1` with 80 random values. \n",
    "\n",
    "Requirements:\n",
    "\n",
    "* Each value is an integer falling between 0 and 100.\n",
    "* Each value in the list is unique.\n",
    "\n",
    "Print `sample_list_1` to review its values\n",
    "\n",
    "*Hint: use `random.sample` ([reference](https://docs.python.org/3/library/random.html#random.sample)).*"
   ]
  },
  {
   "cell_type": "code",
   "execution_count": 25,
   "metadata": {},
   "outputs": [
    {
     "name": "stdout",
     "output_type": "stream",
     "text": [
      "[62, 0, 7, 6, 71, 44, 43, 37, 76, 19, 10, 30, 90, 40, 73, 26, 32, 49, 28, 17, 77, 42, 25, 18, 97, 24, 86, 53, 2, 84, 92, 94, 72, 79, 89, 81, 47, 65, 99, 95, 83, 11, 74, 66, 27, 50, 31, 8, 52, 21, 1, 67, 93, 57, 38, 80, 16, 60, 23, 48, 3, 64, 78, 75, 9, 14, 33, 12, 56, 98, 96, 41, 100, 22, 85, 45, 46, 91, 58, 55]\n",
      "length of sample_list_1 is: 80\n"
     ]
    },
    {
     "data": {
      "text/plain": [
       "'\\nsample_list_1 = [random.randint(0,100) for i in range(80)]\\nWhen using this command, it can repeat some integers, hence set will be shorter than my list\\n'"
      ]
     },
     "execution_count": 25,
     "metadata": {},
     "output_type": "execute_result"
    }
   ],
   "source": [
    "sample_list_1 = random.sample(range(101),80) \n",
    "#Using the random.sample doesn't repeat integers, so the set of this list will be the same size as the list itself.\n",
    "print(sample_list_1)\n",
    "print(\"length of sample_list_1 is:\", len(sample_list_1))\n",
    "\"\"\"\n",
    "sample_list_1 = [random.randint(0,100) for i in range(80)]\n",
    "When using this command, it can repeat some integers, hence set will be shorter than my list\n",
    "\"\"\""
   ]
  },
  {
   "cell_type": "markdown",
   "metadata": {},
   "source": [
    "#### Convert `sample_list_1` to a set called `set1`. Print the length of the set. Is its length still 80?"
   ]
  },
  {
   "cell_type": "code",
   "execution_count": 26,
   "metadata": {},
   "outputs": [
    {
     "name": "stdout",
     "output_type": "stream",
     "text": [
      "{0, 1, 2, 3, 6, 7, 8, 9, 10, 11, 12, 14, 16, 17, 18, 19, 21, 22, 23, 24, 25, 26, 27, 28, 30, 31, 32, 33, 37, 38, 40, 41, 42, 43, 44, 45, 46, 47, 48, 49, 50, 52, 53, 55, 56, 57, 58, 60, 62, 64, 65, 66, 67, 71, 72, 73, 74, 75, 76, 77, 78, 79, 80, 81, 83, 84, 85, 86, 89, 90, 91, 92, 93, 94, 95, 96, 97, 98, 99, 100}\n",
      "length of set1 is: 80\n"
     ]
    }
   ],
   "source": [
    "set1 = set(sample_list_1)\n",
    "print(set1)\n",
    "print(\"length of set1 is:\", len(set1))"
   ]
  },
  {
   "cell_type": "markdown",
   "metadata": {},
   "source": [
    "#### Create another list named `sample_list_2` with 80 random values.\n",
    "\n",
    "Requirements:\n",
    "\n",
    "* Each value is an integer falling between 0 and 100.\n",
    "* The values in the list don't have to be unique.\n",
    "\n",
    "*Hint: Use a FOR loop and the `randrange()` function.*"
   ]
  },
  {
   "cell_type": "code",
   "execution_count": 27,
   "metadata": {},
   "outputs": [
    {
     "name": "stdout",
     "output_type": "stream",
     "text": [
      "[43, 68, 99, 61, 98, 10, 33, 31, 95, 64, 3, 42, 98, 91, 68, 37, 95, 13, 74, 54, 79, 32, 13, 82, 42, 90, 63, 15, 73, 87, 43, 50, 37, 18, 6, 81, 9, 64, 22, 21, 76, 85, 16, 88, 49, 60, 77, 30, 21, 25, 89, 92, 33, 82, 16, 30, 82, 19, 1, 54, 11, 44, 11, 59, 36, 5, 7, 46, 83, 96, 55, 35, 25, 79, 59, 14, 81, 84, 47, 23]\n",
      "length of sample_list_2 is: 80\n"
     ]
    }
   ],
   "source": [
    "sample_list_2= [random.randrange(0,101) for i in range(80)]\n",
    "#When using this command, it can repeat some integers, hence set will be shorter than my list\n",
    "print(sample_list_2)\n",
    "print(\"length of sample_list_2 is:\", len(sample_list_2))"
   ]
  },
  {
   "cell_type": "markdown",
   "metadata": {},
   "source": [
    "#### Convert `sample_list_2` to a set called `set2`. Print the length of the set. Is its length still 80?"
   ]
  },
  {
   "cell_type": "code",
   "execution_count": 28,
   "metadata": {},
   "outputs": [
    {
     "name": "stdout",
     "output_type": "stream",
     "text": [
      "{1, 3, 5, 6, 7, 9, 10, 11, 13, 14, 15, 16, 18, 19, 21, 22, 23, 25, 30, 31, 32, 33, 35, 36, 37, 42, 43, 44, 46, 47, 49, 50, 54, 55, 59, 60, 61, 63, 64, 68, 73, 74, 76, 77, 79, 81, 82, 83, 84, 85, 87, 88, 89, 90, 91, 92, 95, 96, 98, 99}\n",
      "length of set2 is: 60\n"
     ]
    }
   ],
   "source": [
    "set2= set(sample_list_2)\n",
    "print(set2)\n",
    "print(\"length of set2 is:\", len(set2))"
   ]
  },
  {
   "cell_type": "markdown",
   "metadata": {},
   "source": [
    "#### Identify the elements present in `set1` but not in `set2`. Assign the elements to a new set named `set3`."
   ]
  },
  {
   "cell_type": "code",
   "execution_count": 36,
   "metadata": {},
   "outputs": [
    {
     "name": "stdout",
     "output_type": "stream",
     "text": [
      "{0, 2, 8, 12, 17, 24, 26, 27, 28, 38, 40, 41, 45, 48, 52, 53, 56, 57, 58, 62, 65, 66, 67, 71, 72, 75, 78, 80, 86, 93, 94, 97, 100}\n",
      "length of set3 is: 33\n"
     ]
    }
   ],
   "source": [
    "list1=[]\n",
    "for i in set1:\n",
    "    if i not in set2:\n",
    "        list1.append(i)\n",
    "set3=set(list1)\n",
    "print(set3)\n",
    "print(\"length of set3 is:\", len(set3))"
   ]
  },
  {
   "cell_type": "markdown",
   "metadata": {},
   "source": [
    "#### Identify the elements present in `set2` but not in `set1`. Assign the elements to a new set named `set4`."
   ]
  },
  {
   "cell_type": "code",
   "execution_count": 37,
   "metadata": {},
   "outputs": [
    {
     "name": "stdout",
     "output_type": "stream",
     "text": [
      "{35, 36, 5, 68, 13, 15, 82, 54, 87, 88, 59, 61, 63}\n",
      "length of set4 is: 13\n"
     ]
    }
   ],
   "source": [
    "list2=[]\n",
    "for i in set2:\n",
    "    if i not in set1:\n",
    "        list2.append(i)\n",
    "set4=set(list2)\n",
    "print(set4)\n",
    "print(\"length of set4 is:\", len(set4))"
   ]
  },
  {
   "cell_type": "markdown",
   "metadata": {},
   "source": [
    "#### Now Identify the elements shared between `set1` and `set2`. Assign the elements to a new set named `set5`."
   ]
  },
  {
   "cell_type": "code",
   "execution_count": 38,
   "metadata": {},
   "outputs": [
    {
     "name": "stdout",
     "output_type": "stream",
     "text": [
      "{1, 3, 6, 7, 9, 10, 11, 14, 16, 18, 19, 21, 22, 23, 25, 30, 31, 32, 33, 37, 42, 43, 44, 46, 47, 49, 50, 55, 60, 64, 73, 74, 76, 77, 79, 81, 83, 84, 85, 89, 90, 91, 92, 95, 96, 98, 99}\n",
      "length of set5 is: 47\n"
     ]
    }
   ],
   "source": [
    "list3=[]\n",
    "for i in set1:\n",
    "    if i in set2:\n",
    "        list3.append(i)\n",
    "set5=set(list3)\n",
    "print(set5)\n",
    "print(\"length of set5 is:\", len(set5))"
   ]
  },
  {
   "cell_type": "markdown",
   "metadata": {},
   "source": [
    "#### What is the relationship among the following values:\n",
    "\n",
    "* len(set1)\n",
    "* len(set2)\n",
    "* len(set3)\n",
    "* len(set4)\n",
    "* len(set5)\n",
    "\n",
    "Think about the set operations that you used to create the sets and how the lengths of the sets are related to each other given those operations."
   ]
  },
  {
   "cell_type": "code",
   "execution_count": 41,
   "metadata": {},
   "outputs": [
    {
     "name": "stdout",
     "output_type": "stream",
     "text": [
      "length of set1 is: 80 It is 80 because all elements are unique\n",
      "length of set2 is: 60 It is 60 because there are 20 repeated elements\n",
      "length of set3 is: 33 The number of elements that are in set 1 but not in set 2\n",
      "length of set4 is: 13 The number of elements that are in set 2 but not in set 1\n",
      "length of set5 is: 47 The number of shared elements between set 1 and set 2\n"
     ]
    }
   ],
   "source": [
    "print(\"length of set1 is:\", len(set1), \"It is 80 because all elements are unique\")\n",
    "print(\"length of set2 is:\", len(set2), \"It is 60 because there are 20 repeated elements\")\n",
    "print(\"length of set3 is:\", len(set3), \"The number of elements that are in set 1 but not in set 2\")\n",
    "print(\"length of set4 is:\", len(set4), \"The number of elements that are in set 2 but not in set 1\")\n",
    "print(\"length of set5 is:\", len(set5), \"The number of shared elements between set 1 and set 2\")"
   ]
  },
  {
   "cell_type": "markdown",
   "metadata": {},
   "source": [
    "#### Create an empty set called `set6`."
   ]
  },
  {
   "cell_type": "code",
   "execution_count": 51,
   "metadata": {},
   "outputs": [],
   "source": [
    "set6=set()"
   ]
  },
  {
   "cell_type": "markdown",
   "metadata": {},
   "source": [
    "#### Add `set3` and `set5` to `set6` using the Python Set `update` method."
   ]
  },
  {
   "cell_type": "code",
   "execution_count": 53,
   "metadata": {},
   "outputs": [
    {
     "name": "stdout",
     "output_type": "stream",
     "text": [
      "{0, 1, 2, 3, 6, 7, 8, 9, 10, 11, 12, 14, 16, 17, 18, 19, 21, 22, 23, 24, 25, 26, 27, 28, 30, 31, 32, 33, 37, 38, 40, 41, 42, 43, 44, 45, 46, 47, 48, 49, 50, 52, 53, 55, 56, 57, 58, 60, 62, 64, 65, 66, 67, 71, 72, 73, 74, 75, 76, 77, 78, 79, 80, 81, 83, 84, 85, 86, 89, 90, 91, 92, 93, 94, 95, 96, 97, 98, 99, 100}\n",
      "length of set6 is: 80\n"
     ]
    }
   ],
   "source": [
    "set6.update(set3)\n",
    "set6.update(set5)\n",
    "print(set6)\n",
    "print(\"length of set6 is:\", len(set6))"
   ]
  },
  {
   "cell_type": "markdown",
   "metadata": {},
   "source": [
    "#### Check if `set1` and `set6` are equal."
   ]
  },
  {
   "cell_type": "code",
   "execution_count": 58,
   "metadata": {},
   "outputs": [
    {
     "name": "stdout",
     "output_type": "stream",
     "text": [
      "Set1 is: {0, 1, 2, 3, 6, 7, 8, 9, 10, 11, 12, 14, 16, 17, 18, 19, 21, 22, 23, 24, 25, 26, 27, 28, 30, 31, 32, 33, 37, 38, 40, 41, 42, 43, 44, 45, 46, 47, 48, 49, 50, 52, 53, 55, 56, 57, 58, 60, 62, 64, 65, 66, 67, 71, 72, 73, 74, 75, 76, 77, 78, 79, 80, 81, 83, 84, 85, 86, 89, 90, 91, 92, 93, 94, 95, 96, 97, 98, 99, 100}\n",
      "Set6 is: {0, 1, 2, 3, 6, 7, 8, 9, 10, 11, 12, 14, 16, 17, 18, 19, 21, 22, 23, 24, 25, 26, 27, 28, 30, 31, 32, 33, 37, 38, 40, 41, 42, 43, 44, 45, 46, 47, 48, 49, 50, 52, 53, 55, 56, 57, 58, 60, 62, 64, 65, 66, 67, 71, 72, 73, 74, 75, 76, 77, 78, 79, 80, 81, 83, 84, 85, 86, 89, 90, 91, 92, 93, 94, 95, 96, 97, 98, 99, 100}\n"
     ]
    }
   ],
   "source": [
    "print(\"Set1 is:\", set1)\n",
    "print(\"Set6 is:\", set6)\n",
    "for i in set1:\n",
    "    if i not in set6:\n",
    "        print(\"Elements that are not in the two sets are:\", i)"
   ]
  },
  {
   "cell_type": "markdown",
   "metadata": {},
   "source": [
    "#### Check if `set1` contains `set2` using the Python Set `issubset` method. Then check if `set1` contains `set3`."
   ]
  },
  {
   "cell_type": "code",
   "execution_count": null,
   "metadata": {},
   "outputs": [],
   "source": [
    "# Your code here\n"
   ]
  },
  {
   "cell_type": "markdown",
   "metadata": {},
   "source": [
    "#### Using the Python Set `union` method, aggregate `set3`, `set4`, and `set5`. Then aggregate `set1` and `set2`. \n",
    "\n",
    "#### Check if the aggregated values are equal."
   ]
  },
  {
   "cell_type": "code",
   "execution_count": null,
   "metadata": {},
   "outputs": [],
   "source": [
    "# Your code here\n"
   ]
  },
  {
   "cell_type": "markdown",
   "metadata": {},
   "source": [
    "#### Using the `pop` method, remove the first element from `set1`."
   ]
  },
  {
   "cell_type": "code",
   "execution_count": null,
   "metadata": {},
   "outputs": [],
   "source": [
    "# Your code here\n"
   ]
  },
  {
   "cell_type": "markdown",
   "metadata": {},
   "source": [
    "#### Remove every element in the following list from `set1` if they are present in the set. Print the remaining elements.\n",
    "\n",
    "```\n",
    "list_to_remove = [1, 9, 11, 19, 21, 29, 31, 39, 41, 49, 51, 59, 61, 69, 71, 79, 81, 89, 91, 99]\n",
    "```"
   ]
  },
  {
   "cell_type": "code",
   "execution_count": null,
   "metadata": {},
   "outputs": [],
   "source": [
    "# Your code here\n"
   ]
  }
 ],
 "metadata": {
  "kernelspec": {
   "display_name": "Python 3",
   "language": "python",
   "name": "python3"
  },
  "language_info": {
   "codemirror_mode": {
    "name": "ipython",
    "version": 3
   },
   "file_extension": ".py",
   "mimetype": "text/x-python",
   "name": "python",
   "nbconvert_exporter": "python",
   "pygments_lexer": "ipython3",
   "version": "3.7.3"
  }
 },
 "nbformat": 4,
 "nbformat_minor": 2
}
